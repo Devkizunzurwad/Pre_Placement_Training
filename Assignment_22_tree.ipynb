{
 "cells": [
  {
   "cell_type": "code",
   "execution_count": 5,
   "id": "dd7df374",
   "metadata": {},
   "outputs": [],
   "source": [
    "Question 1"
   ]
  },
  {
   "cell_type": "code",
   "execution_count": 6,
   "id": "0252c204",
   "metadata": {},
   "outputs": [
    {
     "name": "stdout",
     "output_type": "stream",
     "text": [
      "25 12 30 10 36 15 "
     ]
    }
   ],
   "source": [
    "class Node:\n",
    "    def __init__(self, val):\n",
    "        self.data = val\n",
    "        self.left = None\n",
    "        self.right = None\n",
    "\n",
    "\n",
    "def convertToDLL(root):\n",
    "    if root is None:\n",
    "        return None\n",
    "\n",
    "    def convertToDLLUtil(node, prev):\n",
    "        nonlocal head\n",
    "\n",
    "        if node is None:\n",
    "            return prev\n",
    "\n",
    "        prev = convertToDLLUtil(node.left, prev)\n",
    "\n",
    "        if prev:\n",
    "            prev.right = node\n",
    "            node.left = prev\n",
    "        else:\n",
    "            head = node\n",
    "\n",
    "        return convertToDLLUtil(node.right, node)\n",
    "\n",
    "    head = None\n",
    "    convertToDLLUtil(root, None)\n",
    "    return head\n",
    "\n",
    "\n",
    "def printDLL(head):\n",
    "    while head:\n",
    "        print(head.data, end=\" \")\n",
    "        head = head.right\n",
    "\n",
    "root = Node(10)\n",
    "root.left = Node(12)\n",
    "root.right = Node(15)\n",
    "root.left.left = Node(25)\n",
    "root.left.right = Node(30)\n",
    "root.right.left = Node(36)\n",
    "\n",
    "head = convertToDLL(root)\n",
    "\n",
    "\n",
    "printDLL(head)\n"
   ]
  },
  {
   "cell_type": "code",
   "execution_count": null,
   "id": "1ca4f167",
   "metadata": {},
   "outputs": [],
   "source": [
    "Question 2"
   ]
  },
  {
   "cell_type": "code",
   "execution_count": 8,
   "id": "be022e0f",
   "metadata": {},
   "outputs": [
    {
     "name": "stdout",
     "output_type": "stream",
     "text": [
      "Level order traversal of the given tree:\n",
      "1 \n",
      "2 3 \n",
      "4 5 \n",
      "\n",
      "Level order traversal of the flipped tree:\n",
      "2 \n",
      "3 1 \n",
      "4 5 \n"
     ]
    }
   ],
   "source": [
    "from queue import Queue\n",
    "\n",
    "\n",
    "class Node:\n",
    "    \n",
    "    def __init__(self, data):\n",
    "        self.data = data\n",
    "        self.right = None\n",
    "        self.left = None\n",
    "\n",
    "def flipBinaryTree(root):\n",
    "    \n",
    "    if root is None:\n",
    "        return root\n",
    "    \n",
    "    if root.left is None and root.right is None:\n",
    "        return root\n",
    "    \n",
    "    \n",
    "    flippedRoot = flipBinaryTree(root.left)\n",
    "\n",
    "    \n",
    "    root.left.left = root.right\n",
    "    root.left.right = root\n",
    "    root.left = root.right = None\n",
    "\n",
    "    return flippedRoot\n",
    "\n",
    "\n",
    "def printLevelOrder(root):\n",
    "    # Base Case\n",
    "    if root is None:\n",
    "        return\n",
    "    \n",
    "    \n",
    "    q = Queue()\n",
    "    \n",
    "    q.put(root)\n",
    "    \n",
    "    while not q.empty():\n",
    "        \n",
    "        nodeCount = q.qsize()\n",
    "        \n",
    "        while nodeCount > 0:\n",
    "            node = q.get()\n",
    "            print(node.data, end=\" \")\n",
    "            \n",
    "            if node.left is not None:\n",
    "                q.put(node.left)\n",
    "            if node.right is not None:\n",
    "                q.put(node.right)\n",
    "            \n",
    "            nodeCount -= 1\n",
    "\n",
    "        print()\n",
    "\n",
    "root = Node(1)\n",
    "root.left = Node(2)\n",
    "root.right = Node(3)\n",
    "root.right.left = Node(4)\n",
    "root.right.right = Node(5)\n",
    "\n",
    "print(\"Level order traversal of the given tree:\")\n",
    "printLevelOrder(root)\n",
    "\n",
    "root = flipBinaryTree(root)\n",
    "\n",
    "print(\"\\nLevel order traversal of the flipped tree:\")\n",
    "printLevelOrder(root)\n"
   ]
  },
  {
   "cell_type": "code",
   "execution_count": 10,
   "id": "4ee20da0",
   "metadata": {},
   "outputs": [
    {
     "name": "stdout",
     "output_type": "stream",
     "text": [
      "Level order traversal of the given tree:\n",
      "1 \n",
      "2 3 \n",
      "4 5 6 7 \n",
      "\n",
      "Level order traversal of the flipped tree:\n",
      "4 \n",
      "5 2 \n",
      "3 1 \n",
      "6 7 \n"
     ]
    }
   ],
   "source": [
    "root = Node(1)\n",
    "root.left = Node(2)\n",
    "root.right = Node(3)\n",
    "root.left.left = Node(4)\n",
    "root.left.right = Node(5)\n",
    "root.right.left = Node(6)\n",
    "root.right.right = Node(7)\n",
    "\n",
    "print(\"Level order traversal of the given tree:\")\n",
    "printLevelOrder(root)\n",
    "\n",
    "root = flipBinaryTree(root)\n",
    "\n",
    "print(\"\\nLevel order traversal of the flipped tree:\")\n",
    "printLevelOrder(root)\n"
   ]
  },
  {
   "cell_type": "code",
   "execution_count": null,
   "id": "7b3cccd4",
   "metadata": {},
   "outputs": [],
   "source": [
    "Question 3"
   ]
  },
  {
   "cell_type": "code",
   "execution_count": 11,
   "id": "2b019897",
   "metadata": {},
   "outputs": [
    {
     "name": "stdout",
     "output_type": "stream",
     "text": [
      "Root-to-leaf paths:\n",
      "6->3->2\n",
      "6->3->5->7\n",
      "6->3->5->4\n",
      "6->5->4\n"
     ]
    }
   ],
   "source": [
    "\n",
    "class Node:\n",
    "    \n",
    "    def __init__(self, data):\n",
    "        self.data = data\n",
    "        self.right = None\n",
    "        self.left = None\n",
    "\n",
    "def printRootToLeafPaths(root):\n",
    "    if root is None:\n",
    "        return\n",
    "    \n",
    "    # Create an empty stack for iterative traversal\n",
    "    stack = []\n",
    "    # Create a dictionary to keep track of parent nodes\n",
    "    parent = {}\n",
    "    # Push the root node to the stack\n",
    "    stack.append((root, str(root.data)))\n",
    "    \n",
    "    while stack:\n",
    "        node, path = stack.pop()\n",
    "        \n",
    "        if node.left is None and node.right is None:\n",
    "            # Leaf node reached, print the path\n",
    "            print(path)\n",
    "        \n",
    "        if node.right is not None:\n",
    "            # Push the right child to the stack\n",
    "            stack.append((node.right, path + \"->\" + str(node.right.data)))\n",
    "            # Set the right child's parent as the current node\n",
    "            parent[node.right] = node\n",
    "        \n",
    "        if node.left is not None:\n",
    "            # Push the left child to the stack\n",
    "            stack.append((node.left, path + \"->\" + str(node.left.data)))\n",
    "            # Set the left child's parent as the current node\n",
    "            parent[node.left] = node\n",
    "\n",
    "\n",
    "root = Node(6)\n",
    "root.left = Node(3)\n",
    "root.right = Node(5)\n",
    "root.left.left = Node(2)\n",
    "root.left.right = Node(5)\n",
    "root.right.right = Node(4)\n",
    "root.left.right.left = Node(7)\n",
    "root.left.right.right = Node(4)\n",
    "\n",
    "print(\"Root-to-leaf paths:\")\n",
    "printRootToLeafPaths(root)\n"
   ]
  },
  {
   "cell_type": "code",
   "execution_count": null,
   "id": "52ce399c",
   "metadata": {},
   "outputs": [],
   "source": [
    "Question 4"
   ]
  },
  {
   "cell_type": "code",
   "execution_count": 12,
   "id": "7d7cc4f9",
   "metadata": {},
   "outputs": [
    {
     "name": "stdout",
     "output_type": "stream",
     "text": [
      "Yes\n",
      "No\n"
     ]
    }
   ],
   "source": [
    "def checkSameTree(inorder, preorder, postorder):\n",
    "    if len(inorder) != len(preorder) != len(postorder):\n",
    "        return False\n",
    "    \n",
    "    if len(inorder) == 0:\n",
    "        return True\n",
    "    \n",
    "    if len(inorder) == 1:\n",
    "        return (inorder[0] == preorder[0] == postorder[0])\n",
    "    \n",
    "    root = preorder[0]\n",
    "    root_index = inorder.index(root)\n",
    "    \n",
    "    left_inorder = inorder[:root_index]\n",
    "    right_inorder = inorder[root_index + 1:]\n",
    "    \n",
    "    left_preorder = preorder[1:root_index + 1]\n",
    "    right_preorder = preorder[root_index + 1:]\n",
    "    \n",
    "    left_postorder = postorder[:root_index]\n",
    "    right_postorder = postorder[root_index:len(postorder) - 1]\n",
    "    \n",
    "    return (checkSameTree(left_inorder, left_preorder, left_postorder) and\n",
    "            checkSameTree(right_inorder, right_preorder, right_postorder))\n",
    "\n",
    "# Example 1\n",
    "inorder1 = [4, 2, 5, 1, 3]\n",
    "preorder1 = [1, 2, 4, 5, 3]\n",
    "postorder1 = [4, 5, 2, 3, 1]\n",
    "\n",
    "if checkSameTree(inorder1, preorder1, postorder1):\n",
    "    print(\"Yes\")\n",
    "else:\n",
    "    print(\"No\")\n",
    "\n",
    "# Example 2\n",
    "inorder2 = [4, 2, 5, 1, 3]\n",
    "preorder2 = [1, 5, 4, 2, 3]\n",
    "postorder2 = [4, 1, 2, 3, 5]\n",
    "\n",
    "if checkSameTree(inorder2, preorder2, postorder2):\n",
    "    print(\"Yes\")\n",
    "else:\n",
    "    print(\"No\")\n"
   ]
  },
  {
   "cell_type": "code",
   "execution_count": null,
   "id": "71963ce5",
   "metadata": {},
   "outputs": [],
   "source": []
  }
 ],
 "metadata": {
  "kernelspec": {
   "display_name": "Python 3 (ipykernel)",
   "language": "python",
   "name": "python3"
  },
  "language_info": {
   "codemirror_mode": {
    "name": "ipython",
    "version": 3
   },
   "file_extension": ".py",
   "mimetype": "text/x-python",
   "name": "python",
   "nbconvert_exporter": "python",
   "pygments_lexer": "ipython3",
   "version": "3.10.9"
  }
 },
 "nbformat": 4,
 "nbformat_minor": 5
}
