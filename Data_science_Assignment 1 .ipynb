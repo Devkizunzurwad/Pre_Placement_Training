{
 "cells": [
  {
   "cell_type": "markdown",
   "id": "599fd611",
   "metadata": {},
   "source": [
    "1. Write a Python program to reverse a string without using any built-in string reversal functions."
   ]
  },
  {
   "cell_type": "code",
   "execution_count": 1,
   "id": "7c2f3abe",
   "metadata": {},
   "outputs": [
    {
     "name": "stdout",
     "output_type": "stream",
     "text": [
      "Enter a string to reverse: devki\n",
      "Reversed string: ikved\n"
     ]
    }
   ],
   "source": [
    "def reverse_string(input_string):\n",
    "    reversed_string = \"\"\n",
    "    for i in range(len(input_string)-1, -1, -1):\n",
    "        reversed_string += input_string[i]\n",
    "    return reversed_string\n",
    "\n",
    "string_to_reverse = input(\"Enter a string to reverse: \")\n",
    "reversed_string = reverse_string(string_to_reverse)\n",
    "print(\"Reversed string:\", reversed_string)\n"
   ]
  },
  {
   "cell_type": "markdown",
   "id": "64bd449f",
   "metadata": {},
   "source": [
    "2. Implement a function to check if a given string is a palindrome."
   ]
  },
  {
   "cell_type": "code",
   "execution_count": 3,
   "id": "03a8d231",
   "metadata": {},
   "outputs": [
    {
     "name": "stdout",
     "output_type": "stream",
     "text": [
      "Enter a string to check for palindrome: devvvki\n",
      "The string is not a palindrome.\n"
     ]
    }
   ],
   "source": [
    "def is_palindrome(input_string):\n",
    "    \n",
    "    input_string = input_string.replace(\" \", \"\").lower()\n",
    "    \n",
    "    reversed_string = input_string[::-1]\n",
    "    if input_string == reversed_string:\n",
    "        return True\n",
    "    else:\n",
    "        return False\n",
    "\n",
    "string_to_check = input(\"Enter a string to check for palindrome: \")\n",
    "if is_palindrome(string_to_check):\n",
    "    print(\"The string is a palindrome.\")\n",
    "else:\n",
    "    print(\"The string is not a palindrome.\")\n"
   ]
  },
  {
   "cell_type": "markdown",
   "id": "4816ea0d",
   "metadata": {},
   "source": [
    "3. Write a program to find the largest element in a given list."
   ]
  },
  {
   "cell_type": "code",
   "execution_count": 5,
   "id": "a06b498b",
   "metadata": {},
   "outputs": [
    {
     "name": "stdout",
     "output_type": "stream",
     "text": [
      "The largest element in the list is: 66\n"
     ]
    }
   ],
   "source": [
    "def find_largest_element(lst):\n",
    "    if not lst:\n",
    "        \n",
    "        return None\n",
    "\n",
    "    largest = lst[0]  \n",
    "    for num in lst:\n",
    "        if num > largest:\n",
    "            largest = num\n",
    "\n",
    "    return largest\n",
    "\n",
    "input_list = [1,2,33,44,23,66]\n",
    "largest_element = find_largest_element(input_list)\n",
    "print(\"The largest element in the list is:\", largest_element)\n"
   ]
  },
  {
   "cell_type": "markdown",
   "id": "b2a882b5",
   "metadata": {},
   "source": [
    "4. Implement a function to count the occurrence of each element in a list."
   ]
  },
  {
   "cell_type": "code",
   "execution_count": 6,
   "id": "e11cdbd4",
   "metadata": {},
   "outputs": [
    {
     "name": "stdout",
     "output_type": "stream",
     "text": [
      "Element occurrences: {1: 4, 2: 3, 3: 2, 4: 2, 5: 2}\n"
     ]
    }
   ],
   "source": [
    "def count_occurrences(lst):\n",
    "    occurrences = {}\n",
    "    \n",
    "    for element in lst:\n",
    "        if element in occurrences:\n",
    "            occurrences[element] += 1\n",
    "        else:\n",
    "            occurrences[element] = 1\n",
    "    \n",
    "    return occurrences\n",
    "\n",
    "# Test the function\n",
    "input_list = [1, 2, 3, 2, 4, 1, 5, 2, 1, 3, 4, 5, 1]\n",
    "occurrences = count_occurrences(input_list)\n",
    "print(\"Element occurrences:\", occurrences)\n"
   ]
  },
  {
   "cell_type": "markdown",
   "id": "63c18c8f",
   "metadata": {},
   "source": [
    "5. Write a Python program to find the second largest number in a list."
   ]
  },
  {
   "cell_type": "code",
   "execution_count": 7,
   "id": "db01a919",
   "metadata": {},
   "outputs": [
    {
     "name": "stdout",
     "output_type": "stream",
     "text": [
      "The second largest number in the list is: 78\n"
     ]
    }
   ],
   "source": [
    "def find_second_largest(lst):\n",
    "    if len(lst) < 2:\n",
    "        return None\n",
    "    \n",
    "    largest = lst[0]\n",
    "    second_largest = float('-inf')\n",
    "    \n",
    "    for num in lst:\n",
    "        if num > largest:\n",
    "            second_largest = largest\n",
    "            largest = num\n",
    "        elif num > second_largest and num != largest:\n",
    "            second_largest = num\n",
    "    \n",
    "    if second_largest == float('-inf'):\n",
    "        return None\n",
    "    else:\n",
    "        return second_largest\n",
    "\n",
    "input_list = [12, 45, 78, 23, 56, 90]\n",
    "second_largest = find_second_largest(input_list)\n",
    "if second_largest is None:\n",
    "    print(\"There is no second largest number.\")\n",
    "else:\n",
    "    print(\"The second largest number in the list is:\", second_largest)\n"
   ]
  },
  {
   "cell_type": "markdown",
   "id": "ce81795e",
   "metadata": {},
   "source": [
    "6. Implement a function to remove duplicate elements from a list."
   ]
  },
  {
   "cell_type": "code",
   "execution_count": 10,
   "id": "ea2371b9",
   "metadata": {},
   "outputs": [
    {
     "name": "stdout",
     "output_type": "stream",
     "text": [
      "List without duplicates: [1, 2, 3, 4, 6, 7]\n"
     ]
    }
   ],
   "source": [
    "def remove_duplicates(lst):\n",
    "    return list(set(lst))\n",
    "\n",
    "# Test the function\n",
    "input_list = [1, 2,3,4,1,6,3,4,2,1,7]\n",
    "list_without_duplicates = remove_duplicates(input_list)\n",
    "print(\"List without duplicates:\", list_without_duplicates)\n"
   ]
  },
  {
   "cell_type": "markdown",
   "id": "efd01ebc",
   "metadata": {},
   "source": [
    "7. Write a program to calculate the factorial of a given number."
   ]
  },
  {
   "cell_type": "code",
   "execution_count": 12,
   "id": "1251a93d",
   "metadata": {},
   "outputs": [
    {
     "name": "stdout",
     "output_type": "stream",
     "text": [
      "Enter a number to calculate its factorial: 4\n",
      "The factorial of 4 is: 24\n"
     ]
    }
   ],
   "source": [
    "def calculate_factorial(n):\n",
    "    if n < 0:\n",
    "        return None\n",
    "    elif n == 0:\n",
    "        return 1\n",
    "    else:\n",
    "        factorial = 1\n",
    "        for i in range(1, n+1):\n",
    "            factorial *= i\n",
    "        return factorial\n",
    "\n",
    "number = int(input(\"Enter a number to calculate its factorial: \"))\n",
    "factorial = calculate_factorial(number)\n",
    "if factorial is None:\n",
    "    print(\"Factorial cannot be calculated for negative numbers.\")\n",
    "else:\n",
    "    print(\"The factorial of\", number, \"is:\", factorial)\n"
   ]
  },
  {
   "cell_type": "markdown",
   "id": "2f4f969b",
   "metadata": {},
   "source": [
    "8. Implement a function to check if a given number is prime."
   ]
  },
  {
   "cell_type": "code",
   "execution_count": 15,
   "id": "8d4e36a8",
   "metadata": {},
   "outputs": [
    {
     "name": "stdout",
     "output_type": "stream",
     "text": [
      "Enter a number to check if it is prime: 0\n",
      "0 is not a prime number.\n"
     ]
    }
   ],
   "source": [
    "def is_prime(number):\n",
    "    if number < 2:\n",
    "        return False\n",
    "    \n",
    "    for i in range(2, int(number**0.5) + 1):\n",
    "        if number % i == 0:\n",
    "            return False\n",
    "    \n",
    "    return True\n",
    "\n",
    "\n",
    "number_to_check = int(input(\"Enter a number to check if it is prime: \"))\n",
    "if is_prime(number_to_check):\n",
    "    print(number_to_check, \"is a prime number.\")\n",
    "else:\n",
    "    print(number_to_check, \"is not a prime number.\")\n"
   ]
  },
  {
   "cell_type": "markdown",
   "id": "632b7662",
   "metadata": {},
   "source": [
    "9. Write a Python program to sort a list of integers in ascending order."
   ]
  },
  {
   "cell_type": "code",
   "execution_count": 17,
   "id": "238cba01",
   "metadata": {},
   "outputs": [
    {
     "name": "stdout",
     "output_type": "stream",
     "text": [
      "Sorted list: [1, 2, 4, 5, 6, 8]\n"
     ]
    }
   ],
   "source": [
    "def sort_list(lst):\n",
    "    sorted_list = lst[:]  # it will create a copy of original string\n",
    "\n",
    "    for i in range(len(sorted_list)):\n",
    "        for j in range(i + 1, len(sorted_list)):\n",
    "            if sorted_list[j] < sorted_list[i]:\n",
    "                sorted_list[i], sorted_list[j] = sorted_list[j], sorted_list[i]\n",
    "    \n",
    "    return sorted_list\n",
    "\n",
    "input_list = [2,5,6,4,8,1]\n",
    "sorted_list = sort_list(input_list)\n",
    "print(\"Sorted list:\", sorted_list)\n"
   ]
  },
  {
   "cell_type": "markdown",
   "id": "45528226",
   "metadata": {},
   "source": [
    "10. Implement a function to find the sum of all numbers in a list.\n"
   ]
  },
  {
   "cell_type": "code",
   "execution_count": 19,
   "id": "5f2aa66c",
   "metadata": {},
   "outputs": [
    {
     "name": "stdout",
     "output_type": "stream",
     "text": [
      "The sum of numbers in the list is: 6\n"
     ]
    }
   ],
   "source": [
    "def find_sum(lst):\n",
    "    total = 0\n",
    "    for number in lst:\n",
    "        total += number\n",
    "    return total\n",
    "\n",
    "input_list = [1, 2,3]\n",
    "sum_of_numbers = find_sum(input_list)\n",
    "print(\"The sum of numbers in the list is:\", sum_of_numbers)\n"
   ]
  },
  {
   "cell_type": "markdown",
   "id": "f468348b",
   "metadata": {},
   "source": [
    "11. Write a program to find the common elements between two lists."
   ]
  },
  {
   "cell_type": "code",
   "execution_count": 2,
   "id": "1f76476f",
   "metadata": {},
   "outputs": [
    {
     "name": "stdout",
     "output_type": "stream",
     "text": [
      "Common elements: [4, 5, 11]\n"
     ]
    }
   ],
   "source": [
    "def find_common_elements(list1, list2):\n",
    "    common_elements = []\n",
    "    for item in list1:\n",
    "        if item in list2:\n",
    "            common_elements.append(item)\n",
    "    return common_elements\n",
    "\n",
    "list1 = [1, 2, 3, 4, 5,9,10,11]\n",
    "list2 = [4, 5, 6, 7, 8,11,12,23]\n",
    "common_elements = find_common_elements(list1, list2)\n",
    "print(\"Common elements:\", common_elements)\n"
   ]
  },
  {
   "cell_type": "markdown",
   "id": "3600c9b1",
   "metadata": {},
   "source": [
    "12. Implement a function to check if a given string is an anagram of another string."
   ]
  },
  {
   "cell_type": "code",
   "execution_count": 6,
   "id": "b6b8e018",
   "metadata": {},
   "outputs": [
    {
     "name": "stdout",
     "output_type": "stream",
     "text": [
      "race and care are anagrams.\n"
     ]
    }
   ],
   "source": [
    "def is_anagram(string1, string2):\n",
    "    string1 = string1.lower().replace(\" \", \"\")\n",
    "    string2 = string2.lower().replace(\" \", \"\")\n",
    "\n",
    "    if len(string1) != len(string2):\n",
    "        return False\n",
    "    sorted_string1 = sorted(list(string1))\n",
    "    sorted_string2 = sorted(list(string2))\n",
    "\n",
    "    if sorted_string1 == sorted_string2:\n",
    "        return True\n",
    "    else:\n",
    "        return False\n",
    "string1 = \"race\"\n",
    "string2 = \"care\"\n",
    "if is_anagram(string1, string2):\n",
    "    print(f\"{string1} and {string2} are anagrams.\")\n",
    "else:\n",
    "    print(f\"{string1} and {string2} are not anagrams.\")\n"
   ]
  },
  {
   "cell_type": "markdown",
   "id": "12aa253e",
   "metadata": {},
   "source": [
    "13. Write a Python program to generate all permutations of a given string."
   ]
  },
  {
   "cell_type": "code",
   "execution_count": 10,
   "id": "f86e59ee",
   "metadata": {},
   "outputs": [
    {
     "name": "stdout",
     "output_type": "stream",
     "text": [
      "Permutations: ['abc', 'acb', 'bac', 'bca', 'cab', 'cba']\n"
     ]
    }
   ],
   "source": [
    "def generate_permutations(string):\n",
    "    if len(string) == 0:\n",
    "        return []\n",
    "    if len(string) == 1:\n",
    "        return [string]\n",
    "\n",
    "    permutations = []  \n",
    "    for i in range(len(string)):\n",
    "        current_char = string[i]\n",
    "\n",
    "        remaining_chars = string[:i] + string[i+1:]\n",
    "        sub_permutations = generate_permutations(remaining_chars)\n",
    "\n",
    "        for sub_permutation in sub_permutations:\n",
    "            permutations.append(current_char + sub_permutation)\n",
    "\n",
    "    return permutations\n",
    "\n",
    "string = \"abc\"\n",
    "permutations = generate_permutations(string)\n",
    "print(\"Permutations:\", permutations)\n"
   ]
  },
  {
   "cell_type": "markdown",
   "id": "831f9ca9",
   "metadata": {},
   "source": [
    "15. Write a program to find the median of a list of numbers."
   ]
  },
  {
   "cell_type": "code",
   "execution_count": 11,
   "id": "ee65d516",
   "metadata": {},
   "outputs": [
    {
     "name": "stdout",
     "output_type": "stream",
     "text": [
      "5\n"
     ]
    }
   ],
   "source": [
    "def find_median(numbers):\n",
    "    sorted_numbers = sorted(numbers)\n",
    "    length = len(sorted_numbers)\n",
    "    if length % 2 == 0:\n",
    "        mid1 = sorted_numbers[length // 2]\n",
    "        mid2 = sorted_numbers[length // 2 - 1]\n",
    "        median = (mid1 + mid2) / 2\n",
    "    else:\n",
    "        median = sorted_numbers[length // 2]\n",
    "    return median\n",
    "\n",
    "# Example usage\n",
    "number_list = [5, 2, 9, 1, 7]\n",
    "median_value = find_median(number_list)\n",
    "print(median_value)\n"
   ]
  },
  {
   "cell_type": "markdown",
   "id": "4109eabd",
   "metadata": {},
   "source": [
    "14. Implement a function to calculate the Fibonacci sequence up to a given number of terms."
   ]
  },
  {
   "cell_type": "code",
   "execution_count": 12,
   "id": "a8b51ca0",
   "metadata": {},
   "outputs": [
    {
     "name": "stdout",
     "output_type": "stream",
     "text": [
      "[0, 1, 1, 2, 3, 5, 8, 13, 21, 34]\n"
     ]
    }
   ],
   "source": [
    "def fibonacci(n):\n",
    "    sequence = []\n",
    "    a, b = 0, 1\n",
    "    for _ in range(n):\n",
    "        sequence.append(a)\n",
    "        a, b = b, a + b\n",
    "    return sequence\n",
    "\n",
    "# Example usage\n",
    "fib_sequence = fibonacci(10)\n",
    "print(fib_sequence)\n"
   ]
  },
  {
   "cell_type": "markdown",
   "id": "8f9b92fd",
   "metadata": {},
   "source": [
    "16. Implement a function to check if a given list is sorted in non-decreasing order."
   ]
  },
  {
   "cell_type": "code",
   "execution_count": 14,
   "id": "d658e753",
   "metadata": {},
   "outputs": [
    {
     "name": "stdout",
     "output_type": "stream",
     "text": [
      "True\n",
      "False\n"
     ]
    }
   ],
   "source": [
    "def is_sorted(numbers):\n",
    "    for i in range(len(numbers) - 1):\n",
    "        if numbers[i] > numbers[i + 1]:\n",
    "            return False\n",
    "    return True\n",
    "\n",
    "list1 = [1, 2, 3, 4, 5]\n",
    "print(is_sorted(list1)) \n",
    "list2 = [7, 2, 9, 1, 5]\n",
    "print(is_sorted(list2)) "
   ]
  },
  {
   "cell_type": "markdown",
   "id": "72094394",
   "metadata": {},
   "source": [
    "17. Write a Python program to find the intersection of two lists.\n",
    "18. Implement a function to find the maximum subarray sum in a given list.\n",
    "19. Write a program to remove all vowels from a given string.\n",
    "20. Implement a function to reverse the order of words in a given sentence."
   ]
  },
  {
   "cell_type": "code",
   "execution_count": 15,
   "id": "1e372ec2",
   "metadata": {},
   "outputs": [
    {
     "name": "stdout",
     "output_type": "stream",
     "text": [
      "[4, 5]\n"
     ]
    }
   ],
   "source": [
    "def find_intersection(list1, list2):\n",
    "    intersection = [value for value in list1 if value in list2]\n",
    "    return intersection\n",
    "\n",
    "list1 = [1, 2, 3, 4, 5]\n",
    "list2 = [4, 5, 6, 7, 8]\n",
    "intersection_list = find_intersection(list1, list2)\n",
    "print(intersection_list)\n"
   ]
  },
  {
   "cell_type": "code",
   "execution_count": 16,
   "id": "053d7e8a",
   "metadata": {},
   "outputs": [
    {
     "name": "stdout",
     "output_type": "stream",
     "text": [
      "7\n"
     ]
    }
   ],
   "source": [
    "def max_subarray_sum(numbers):\n",
    "    max_sum = float('-inf')\n",
    "    current_sum = 0\n",
    "    for num in numbers:\n",
    "        current_sum = max(num, current_sum + num)\n",
    "        max_sum = max(max_sum, current_sum)\n",
    "    return max_sum\n",
    "\n",
    "list1 = [-2, -3, 4, -1, -2, 1, 5, -3]\n",
    "maximum_sum = max_subarray_sum(list1)\n",
    "print(maximum_sum)\n"
   ]
  },
  {
   "cell_type": "code",
   "execution_count": 17,
   "id": "b89576e4",
   "metadata": {},
   "outputs": [
    {
     "name": "stdout",
     "output_type": "stream",
     "text": [
      "Hll, Wrld!\n"
     ]
    }
   ],
   "source": [
    "def remove_vowels(string):\n",
    "    vowels = ['a', 'e', 'i', 'o', 'u', 'A', 'E', 'I', 'O', 'U']\n",
    "    string_without_vowels = ''.join([char for char in string if char not in vowels])\n",
    "    return string_without_vowels\n",
    "\n",
    "input_string = \"Hello, World!\"\n",
    "string_without_vowels = remove_vowels(input_string)\n",
    "print(string_without_vowels)\n"
   ]
  },
  {
   "cell_type": "code",
   "execution_count": 18,
   "id": "cf862694",
   "metadata": {},
   "outputs": [
    {
     "name": "stdout",
     "output_type": "stream",
     "text": [
      "you? are how Hello,\n"
     ]
    }
   ],
   "source": [
    "def reverse_sentence(sentence):\n",
    "    words = sentence.split()\n",
    "    reversed_words = words[::-1]\n",
    "    reversed_sentence = ' '.join(reversed_words)\n",
    "    return reversed_sentence\n",
    "\n",
    "input_sentence = \"Hello, how are you?\"\n",
    "reversed_sentence = reverse_sentence(input_sentence)\n",
    "print(reversed_sentence)\n"
   ]
  },
  {
   "cell_type": "markdown",
   "id": "93c9bb55",
   "metadata": {},
   "source": [
    "21. Write a Python program to check if two strings are anagrams of each other.\n",
    "22. Implement a function to find the first non-repeating character in a string.\n",
    "23. Write a program to find the prime factors of a given number.\n",
    "24. Implement a function to check if a given number is a power of two.\n",
    "25. Write a Python program to merge two sorted lists into a single sorted list.\n"
   ]
  },
  {
   "cell_type": "code",
   "execution_count": 19,
   "id": "24665ea7",
   "metadata": {},
   "outputs": [
    {
     "name": "stdout",
     "output_type": "stream",
     "text": [
      "True\n",
      "False\n"
     ]
    }
   ],
   "source": [
    "def are_anagrams(str1, str2):\n",
    "    str1 = str1.replace(\" \", \"\").lower()\n",
    "    str2 = str2.replace(\" \", \"\").lower()\n",
    "\n",
    "    sorted_str1 = sorted(str1)\n",
    "    sorted_str2 = sorted(str2)\n",
    "    return sorted_str1 == sorted_str2\n",
    "\n",
    "string1 = \"listen\"\n",
    "string2 = \"silent\"\n",
    "print(are_anagrams(string1, string2)) \n",
    "\n",
    "string3 = \"hello\"\n",
    "string4 = \"world\"\n",
    "print(are_anagrams(string3, string4))  \n"
   ]
  },
  {
   "cell_type": "code",
   "execution_count": 24,
   "id": "7598c611",
   "metadata": {},
   "outputs": [
    {
     "name": "stdout",
     "output_type": "stream",
     "text": [
      "e\n"
     ]
    }
   ],
   "source": [
    "from collections import Counter\n",
    "\n",
    "def find_first_non_repeating_character(string):\n",
    "    char_counts = Counter(string)\n",
    "    for char in string:\n",
    "        if char_counts[char] == 1:\n",
    "            return char\n",
    "    return None\n",
    "\n",
    "input_string = \"abraecadabra\"\n",
    "non_repeating_char = find_first_non_repeating_character(input_string)\n",
    "print(non_repeating_char) \n"
   ]
  },
  {
   "cell_type": "code",
   "execution_count": 26,
   "id": "2356ae9d",
   "metadata": {},
   "outputs": [
    {
     "name": "stdout",
     "output_type": "stream",
     "text": [
      "[3, 3, 5]\n"
     ]
    }
   ],
   "source": [
    "def find_prime_factors(number):\n",
    "    factors = []\n",
    "    divisor = 2\n",
    "\n",
    "    while divisor <= number:\n",
    "        if number % divisor == 0:\n",
    "            factors.append(divisor)\n",
    "            number /= divisor\n",
    "        else:\n",
    "            divisor += 1\n",
    "\n",
    "    return factors\n",
    "\n",
    "num = 45\n",
    "prime_factors = find_prime_factors(num)\n",
    "print(prime_factors) \n"
   ]
  },
  {
   "cell_type": "code",
   "execution_count": 33,
   "id": "878b4702",
   "metadata": {},
   "outputs": [
    {
     "name": "stdout",
     "output_type": "stream",
     "text": [
      "True\n",
      "False\n"
     ]
    }
   ],
   "source": [
    "def is_power_of_two(number):\n",
    "    if number <= 0:\n",
    "        return False\n",
    "    return (number & (number - 1)) == 0\n",
    "\n",
    "num1 = 16\n",
    "print(is_power_of_two(num1))  \n",
    "\n",
    "num2 = 6\n",
    "print(is_power_of_two(num2)) \n"
   ]
  },
  {
   "cell_type": "code",
   "execution_count": 34,
   "id": "8908389e",
   "metadata": {},
   "outputs": [
    {
     "name": "stdout",
     "output_type": "stream",
     "text": [
      "[1, 2, 3, 4, 5, 6]\n"
     ]
    }
   ],
   "source": [
    "def merge_sorted_lists(list1, list2):\n",
    "    merged_list = []\n",
    "    i = j = 0\n",
    "\n",
    "    while i < len(list1) and j < len(list2):\n",
    "        if list1[i] < list2[j]:\n",
    "            merged_list.append(list1[i])\n",
    "            i += 1\n",
    "        else:\n",
    "            merged_list.append(list2[j])\n",
    "            j += 1\n",
    "\n",
    "    while i < len(list1):\n",
    "        merged_list.append(list1[i])\n",
    "        i += 1\n",
    "\n",
    "    while j < len(list2):\n",
    "        merged_list.append(list2[j])\n",
    "        j += 1\n",
    "\n",
    "    return merged_list\n",
    "\n",
    "list1 = [1, 3, 5]\n",
    "list2 = [2, 4, 6]\n",
    "merged_list = merge_sorted_lists(list1, list2)\n",
    "print(merged_list)  "
   ]
  },
  {
   "cell_type": "code",
   "execution_count": 36,
   "id": "e6f9c014",
   "metadata": {},
   "outputs": [
    {
     "name": "stdout",
     "output_type": "stream",
     "text": [
      "[1, 2, 3, 4, 5, 6]\n"
     ]
    }
   ],
   "source": [
    "import heapq\n",
    "\n",
    "def merge_sorted_lists(list1, list2):\n",
    "    merged_list = list(heapq.merge(list1, list2))\n",
    "    return merged_list\n",
    "\n",
    "list1 = [1, 3, 5]\n",
    "list2 = [2, 4, 6]\n",
    "merged_list = merge_sorted_lists(list1, list2)\n",
    "print(merged_list) "
   ]
  },
  {
   "cell_type": "markdown",
   "id": "1a611b27",
   "metadata": {},
   "source": [
    "26. Implement a function to find the mode of a list of numbers.\n",
    "27. Write a program to find the greatest common divisor (GCD) of two numbers.\n",
    "28. Implement a function to calculate the square root of a given number.\n",
    "29. Write a Python program to check if a given string is a valid palindrome ignoring non-alphanumeric characters.\n",
    "30. Implement a function to find the minimum element in a rotated sorted list."
   ]
  },
  {
   "cell_type": "code",
   "execution_count": 37,
   "id": "f04a4426",
   "metadata": {},
   "outputs": [
    {
     "name": "stdout",
     "output_type": "stream",
     "text": [
      "[4]\n"
     ]
    }
   ],
   "source": [
    "from collections import Counter\n",
    "\n",
    "def find_mode(numbers):\n",
    "    counter = Counter(numbers)\n",
    "    max_count = max(counter.values())\n",
    "    mode = [num for num, count in counter.items() if count == max_count]\n",
    "    return mode\n",
    "number_list = [1, 2, 3, 2, 4, 3, 4, 5, 4]\n",
    "mode_values = find_mode(number_list)\n",
    "print(mode_values) "
   ]
  },
  {
   "cell_type": "code",
   "execution_count": 38,
   "id": "3d9bf564",
   "metadata": {},
   "outputs": [
    {
     "name": "stdout",
     "output_type": "stream",
     "text": [
      "12\n"
     ]
    }
   ],
   "source": [
    "def find_gcd(a, b):\n",
    "    while b != 0:\n",
    "        a, b = b, a % b\n",
    "    return a\n",
    "\n",
    "num1 = 36\n",
    "num2 = 48\n",
    "gcd = find_gcd(num1, num2)\n",
    "print(gcd) "
   ]
  },
  {
   "cell_type": "code",
   "execution_count": 39,
   "id": "838f416d",
   "metadata": {},
   "outputs": [
    {
     "name": "stdout",
     "output_type": "stream",
     "text": [
      "5\n"
     ]
    }
   ],
   "source": [
    "def calculate_square_root(number):\n",
    "    if number < 0:\n",
    "        raise ValueError(\"Square root is not defined for negative numbers.\")\n",
    "    elif number == 0:\n",
    "        return 0\n",
    "\n",
    "    x = number\n",
    "    y = (x + 1) // 2\n",
    "    while y < x:\n",
    "        x = y\n",
    "        y = (x + number // x) // 2\n",
    "\n",
    "    return x\n",
    "\n",
    "num = 25\n",
    "square_root = calculate_square_root(num)\n",
    "print(square_root) \n"
   ]
  },
  {
   "cell_type": "code",
   "execution_count": 40,
   "id": "59a8e185",
   "metadata": {},
   "outputs": [
    {
     "name": "stdout",
     "output_type": "stream",
     "text": [
      "True\n",
      "False\n"
     ]
    }
   ],
   "source": [
    "import re\n",
    "\n",
    "def is_valid_palindrome(string):\n",
    "    cleaned_string = re.sub(r'[^a-zA-Z0-9]', '', string.lower())\n",
    "    reversed_string = cleaned_string[::-1]\n",
    "    return cleaned_string == reversed_string\n",
    "\n",
    "input_string = \"A man, a plan, a canal: Panama\"\n",
    "print(is_valid_palindrome(input_string))  # Output: True\n",
    "\n",
    "input_string = \"race a car\"\n",
    "print(is_valid_palindrome(input_string))  # Output: False\n"
   ]
  },
  {
   "cell_type": "code",
   "execution_count": 41,
   "id": "123996c4",
   "metadata": {},
   "outputs": [
    {
     "name": "stdout",
     "output_type": "stream",
     "text": [
      "0\n"
     ]
    }
   ],
   "source": [
    "def find_min_element(nums):\n",
    "    left, right = 0, len(nums) - 1\n",
    "\n",
    "    while left < right:\n",
    "        mid = left + (right - left) // 2\n",
    "\n",
    "        if nums[mid] > nums[right]:\n",
    "            left = mid + 1\n",
    "        else:\n",
    "            right = mid\n",
    "\n",
    "    return nums[left]\n",
    "\n",
    "rotated_list = [4, 5, 6, 7, 0, 1, 2]\n",
    "min_element = find_min_element(rotated_list)\n",
    "print(min_element)  \n"
   ]
  },
  {
   "cell_type": "markdown",
   "id": "cc02e8e9",
   "metadata": {},
   "source": [
    "31. Write a program to find the sum of all even numbers in a list.\n",
    "32. Implement a function to calculate the power of a number using recursion.\n",
    "33. Write a Python program to remove duplicates from a list while preserving the order.\n",
    "34. Implement a function to find the longest common prefix among a list of strings.\n",
    "35. Write a program to check if a given number is a perfect square."
   ]
  },
  {
   "cell_type": "code",
   "execution_count": 49,
   "id": "7b39e997",
   "metadata": {},
   "outputs": [
    {
     "name": "stdout",
     "output_type": "stream",
     "text": [
      "Sum of even numbers: 30\n"
     ]
    }
   ],
   "source": [
    "def sum_of_even_numbers(numbers):\n",
    "    even_sum = 0\n",
    "    for num in numbers:\n",
    "        if num % 2 == 0:\n",
    "            even_sum += num\n",
    "    return even_sum\n",
    "\n",
    "my_list = [1, 2, 3, 4, 5, 6, 7, 8, 9, 10]\n",
    "result = sum_of_even_numbers(my_list)\n",
    "print(\"Sum of even numbers:\", result)\n"
   ]
  },
  {
   "cell_type": "code",
   "execution_count": 50,
   "id": "0909cc16",
   "metadata": {},
   "outputs": [
    {
     "name": "stdout",
     "output_type": "stream",
     "text": [
      "2 raised to the power of 3: 8\n"
     ]
    }
   ],
   "source": [
    "def power(base, exponent):\n",
    "    if exponent == 0:\n",
    "        return 1\n",
    "    elif exponent < 0:\n",
    "        return 1 / power(base, -exponent)\n",
    "    else:\n",
    "        return base * power(base, exponent - 1)\n",
    "\n",
    "result = power(2, 3)\n",
    "print(\"2 raised to the power of 3:\", result)\n"
   ]
  },
  {
   "cell_type": "code",
   "execution_count": 57,
   "id": "ea017016",
   "metadata": {},
   "outputs": [
    {
     "name": "stdout",
     "output_type": "stream",
     "text": [
      "List with duplicates removed: [1, 2, 3, 4, 5, 6, 7, 8]\n"
     ]
    }
   ],
   "source": [
    "def remove_duplicates_with_order(lst):\n",
    "    seen = set()\n",
    "    result = []\n",
    "    for item in lst:\n",
    "        if item not in seen:\n",
    "            seen.add(item)\n",
    "            result.append(item)\n",
    "    return result\n",
    "\n",
    "my_list = [1, 2, 3, 2, 4, 1, 5, 6, 5, 7, 8, 7]\n",
    "result = remove_duplicates_with_order(my_list)\n",
    "print(\"List with duplicates removed:\", result)\n"
   ]
  },
  {
   "cell_type": "code",
   "execution_count": 55,
   "id": "452b4a46",
   "metadata": {},
   "outputs": [
    {
     "name": "stdout",
     "output_type": "stream",
     "text": [
      "Longest common prefix: fl\n"
     ]
    }
   ],
   "source": [
    "def longest_common_prefix(strings):\n",
    "    if not strings:\n",
    "        return \"\"\n",
    "\n",
    "    shortest_string = min(strings, key=len)\n",
    "    for i, char in enumerate(shortest_string):\n",
    "        for string in strings:\n",
    "            if string[i] != char:\n",
    "                return shortest_string[:i]\n",
    "    return shortest_string\n",
    "\n",
    "my_list = [\"flower\", \"flow\", \"flight\"]\n",
    "result = longest_common_prefix(my_list)\n",
    "print(\"Longest common prefix:\", result)\n"
   ]
  },
  {
   "cell_type": "code",
   "execution_count": 61,
   "id": "7dd5586e",
   "metadata": {},
   "outputs": [
    {
     "name": "stdout",
     "output_type": "stream",
     "text": [
      "16 is a perfect square.\n"
     ]
    }
   ],
   "source": [
    "import math\n",
    "\n",
    "def is_perfect_square(number):\n",
    "    sqrt = math.isqrt(number)\n",
    "    return sqrt * sqrt == number\n",
    "\n",
    "num = 16\n",
    "result = is_perfect_square(num)\n",
    "if result:\n",
    "    print(num, \"is a perfect square.\")\n",
    "else:\n",
    "    print(num, \"is not a perfect square.\")\n"
   ]
  },
  {
   "cell_type": "markdown",
   "id": "a6164ad3",
   "metadata": {},
   "source": [
    "36. Implement a function to calculate the product of all elements in a list.\n",
    "37. Write a Python program to reverse the order of words in a sentence while preserving the word order.\n",
    "38. Implement a function to find the missing number in a given list of consecutive numbers.\n",
    "39. Write a program to find the sum of digits of a given number.\n",
    "40. Implement a function to check if a given string is a valid palindrome considering case sensitivity.\n"
   ]
  },
  {
   "cell_type": "code",
   "execution_count": 63,
   "id": "6838363a",
   "metadata": {},
   "outputs": [],
   "source": [
    "def calculate_product(lst):\n",
    "    product = 1\n",
    "    for num in lst:\n",
    "        product *= num\n",
    "    return product\n"
   ]
  },
  {
   "cell_type": "code",
   "execution_count": 65,
   "id": "a21f2807",
   "metadata": {},
   "outputs": [
    {
     "name": "stdout",
     "output_type": "stream",
     "text": [
      "120\n"
     ]
    }
   ],
   "source": [
    "numbers = [2, 3, 4, 5]\n",
    "result = calculate_product(numbers)\n",
    "print(result)\n"
   ]
  },
  {
   "cell_type": "code",
   "execution_count": 66,
   "id": "2b0fe3df",
   "metadata": {},
   "outputs": [
    {
     "name": "stdout",
     "output_type": "stream",
     "text": [
      "you? are how world, Hello\n"
     ]
    }
   ],
   "source": [
    "def reverse_words(sentence):\n",
    "    words = sentence.split()\n",
    "    reversed_sentence = ' '.join(reversed(words))\n",
    "    return reversed_sentence\n",
    "sentence = \"Hello world, how are you?\"\n",
    "reversed_sentence = reverse_words(sentence)\n",
    "print(reversed_sentence)  \n"
   ]
  },
  {
   "cell_type": "code",
   "execution_count": 68,
   "id": "225b4481",
   "metadata": {},
   "outputs": [
    {
     "name": "stdout",
     "output_type": "stream",
     "text": [
      "4\n"
     ]
    }
   ],
   "source": [
    "def find_missing_number(lst):\n",
    "    n = len(lst) + 1\n",
    "    total_sum = (n * (n + 1)) // 2\n",
    "    actual_sum = sum(lst)\n",
    "    missing_number = total_sum - actual_sum\n",
    "    return missing_number\n",
    "numbers = [1, 2, 3, 5, 6]\n",
    "missing_number = find_missing_number(numbers)\n",
    "print(missing_number)  "
   ]
  },
  {
   "cell_type": "code",
   "execution_count": 71,
   "id": "75e9e272",
   "metadata": {},
   "outputs": [
    {
     "name": "stdout",
     "output_type": "stream",
     "text": [
      "15\n"
     ]
    }
   ],
   "source": [
    "def sum_of_digits(number):\n",
    "    sum = 0\n",
    "    while number > 0:\n",
    "        digit = number % 10\n",
    "        sum += digit\n",
    "        number //= 10\n",
    "    return sum\n",
    "num = 12345\n",
    "digit_sum = sum_of_digits(num)\n",
    "print(digit_sum)\n"
   ]
  },
  {
   "cell_type": "code",
   "execution_count": 76,
   "id": "f8eb1c9f",
   "metadata": {},
   "outputs": [
    {
     "name": "stdout",
     "output_type": "stream",
     "text": [
      "False\n"
     ]
    }
   ],
   "source": [
    "def is_palindrome(word):\n",
    "    word = word.lower() \n",
    "    reversed_word = word[::-1]\n",
    "    return word == reversed_word\n",
    "\n",
    "string = \"Devki\"\n",
    "is_palindrome = is_palindrome(string)\n",
    "print(is_palindrome)  \n"
   ]
  },
  {
   "cell_type": "markdown",
   "id": "16cf0e74",
   "metadata": {},
   "source": [
    "41. Write a Python program to find the smallest missing positive integer in a list.\n",
    "42. Implement a function to find the longest palindrome substring in a given string.\n",
    "43. Write a program to find the number of occurrences of a given element in a list.\n",
    "44. Implement a function to check if a given number is a perfect number.\n",
    "45. Write a Python program to remove all duplicates from a string.\n",
    "46. Implement a function to find the first missing positive"
   ]
  },
  {
   "cell_type": "code",
   "execution_count": 77,
   "id": "d7f700e6",
   "metadata": {},
   "outputs": [
    {
     "name": "stdout",
     "output_type": "stream",
     "text": [
      "2\n"
     ]
    }
   ],
   "source": [
    "def find_smallest_missing_positive(lst):\n",
    "    n = len(lst)\n",
    "    i = 0\n",
    "    while i < n:\n",
    "        if 1 <= lst[i] <= n and lst[i] != lst[lst[i] - 1]:\n",
    "            lst[lst[i] - 1], lst[i] = lst[i], lst[lst[i] - 1]\n",
    "        else:\n",
    "            i += 1\n",
    "\n",
    "    for i in range(n):\n",
    "        if lst[i] != i + 1:\n",
    "            return i + 1\n",
    "\n",
    "    return n + 1\n",
    "\n",
    "numbers = [3, 4, -1, 1]\n",
    "smallest_missing = find_smallest_missing_positive(numbers)\n",
    "print(smallest_missing) \n"
   ]
  },
  {
   "cell_type": "code",
   "execution_count": 85,
   "id": "f29ad226",
   "metadata": {},
   "outputs": [
    {
     "name": "stdout",
     "output_type": "stream",
     "text": [
      "bab\n"
     ]
    }
   ],
   "source": [
    "def longest_palindrome_substring(string):\n",
    "    n = len(string)\n",
    "    if n < 2:\n",
    "        return string\n",
    "\n",
    "    start = 0\n",
    "    max_length = 1\n",
    "\n",
    "    for i in range(n):\n",
    "        left = i\n",
    "        right = i\n",
    "        while left >= 0 and right < n and string[left] == string[right]:\n",
    "            if right - left + 1 > max_length:\n",
    "                start = left\n",
    "                max_length = right - left + 1\n",
    "            left -= 1\n",
    "            right += 1\n",
    "\n",
    "        left = i\n",
    "        right = i + 1\n",
    "        while left >= 0 and right < n and string[left] == string[right]:\n",
    "            if right - left + 1 > max_length:\n",
    "                start = left\n",
    "                max_length = right - left + 1\n",
    "            left -= 1\n",
    "            right += 1\n",
    "\n",
    "    return string[start:start + max_length]\n",
    "\n",
    "text = \"babad\"\n",
    "longest_palindrome = longest_palindrome_substring(text)\n",
    "print(longest_palindrome)  \n"
   ]
  },
  {
   "cell_type": "code",
   "execution_count": 79,
   "id": "d3cbe6e3",
   "metadata": {},
   "outputs": [
    {
     "name": "stdout",
     "output_type": "stream",
     "text": [
      "True\n"
     ]
    }
   ],
   "source": [
    "def is_perfect_number(number):\n",
    "    if number <= 0:\n",
    "        return False\n",
    "\n",
    "    divisor_sum = 0\n",
    "    for i in range(1, number):\n",
    "        if number % i == 0:\n",
    "            divisor_sum += i\n",
    "\n",
    "    return divisor_sum == number\n",
    "num = 28\n",
    "is_perfect = is_perfect_number(num)\n",
    "print(is_perfect)  \n"
   ]
  },
  {
   "cell_type": "code",
   "execution_count": 83,
   "id": "f6524f0d",
   "metadata": {},
   "outputs": [
    {
     "name": "stdout",
     "output_type": "stream",
     "text": [
      "devki\n"
     ]
    }
   ],
   "source": [
    "def remove_duplicates(string):\n",
    "    unique_chars = []\n",
    "    for char in string:\n",
    "        if char not in unique_chars:\n",
    "            unique_chars.append(char)\n",
    "    return ''.join(unique_chars)\n",
    "\n",
    "text = \"deevki\"\n",
    "result = remove_duplicates(text)\n",
    "print(result) \n"
   ]
  },
  {
   "cell_type": "code",
   "execution_count": 81,
   "id": "33c51506",
   "metadata": {},
   "outputs": [
    {
     "name": "stdout",
     "output_type": "stream",
     "text": [
      "2\n"
     ]
    }
   ],
   "source": [
    "def find_first_missing_positive(lst):\n",
    "    n = len(lst)\n",
    "    for i in range(n):\n",
    "        while 1 <= lst[i] <= n and lst[i] != lst[lst[i] - 1]:\n",
    "           \n",
    "            lst[lst[i] - 1], lst[i] = lst[i], lst[lst[i] - 1]\n",
    "\n",
    "    for i in range(n):\n",
    "        if lst[i] != i + 1:\n",
    "            return i + 1\n",
    "\n",
    "    return n + 1\n",
    "\n",
    "numbers = [3, 4, -1, 1]\n",
    "first_missing = find_first_missing_positive(numbers)\n",
    "print(first_missing)  # Output: 2\n"
   ]
  },
  {
   "cell_type": "code",
   "execution_count": 82,
   "id": "668b300f",
   "metadata": {},
   "outputs": [
    {
     "name": "stdout",
     "output_type": "stream",
     "text": [
      "2\n"
     ]
    }
   ],
   "source": [
    "def find_first_missing_positive(lst):\n",
    "    n = len(lst)\n",
    "    for i in range(n):\n",
    "        while 1 <= lst[i] <= n and lst[i] != lst[lst[i] - 1]:\n",
    "    \n",
    "            lst[lst[i] - 1], lst[i] = lst[i], lst[lst[i] - 1]\n",
    "\n",
    "    for i in range(n):\n",
    "        if lst[i] != i + 1:\n",
    "            return i + 1\n",
    "\n",
    "    return n + 1\n",
    "\n",
    "numbers = [3, 4, -1, 1]\n",
    "first_missing = find_first_missing_positive(numbers)\n",
    "print(first_missing)  \n"
   ]
  },
  {
   "cell_type": "code",
   "execution_count": null,
   "id": "6d08a0ea",
   "metadata": {},
   "outputs": [],
   "source": []
  }
 ],
 "metadata": {
  "kernelspec": {
   "display_name": "Python 3 (ipykernel)",
   "language": "python",
   "name": "python3"
  },
  "language_info": {
   "codemirror_mode": {
    "name": "ipython",
    "version": 3
   },
   "file_extension": ".py",
   "mimetype": "text/x-python",
   "name": "python",
   "nbconvert_exporter": "python",
   "pygments_lexer": "ipython3",
   "version": "3.10.9"
  }
 },
 "nbformat": 4,
 "nbformat_minor": 5
}
