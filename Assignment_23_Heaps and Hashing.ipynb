{
 "cells": [
  {
   "cell_type": "markdown",
   "id": "894df9be",
   "metadata": {},
   "source": [
    "Q 1- "
   ]
  },
  {
   "cell_type": "code",
   "execution_count": 46,
   "id": "27ca5579",
   "metadata": {},
   "outputs": [
    {
     "name": "stdout",
     "output_type": "stream",
     "text": [
      "2\n"
     ]
    }
   ],
   "source": [
    "def findDepthRec(tree, n, index) :\n",
    "    if (index[0] >= n or tree[index[0]] == 'l'):\n",
    "       return 0\n",
    "    index[0] += 1\n",
    "    left = findDepthRec(tree, n, index)\n",
    "\n",
    "    index[0] += 1\n",
    "    right = findDepthRec(tree, n, index)\n",
    "    return (max(left, right) + 1)\n",
    "   \n",
    "\n",
    "def findDepth(tree, n) :\n",
    "\n",
    "    index = [0]\n",
    "    return findDepthRec(tree, n, index)\n",
    "\n",
    "if __name__ == '__main__':\n",
    "    tree= \"nlnll\"\n",
    "    n = len(tree)\n",
    "    print(findDepth(tree, n))\n"
   ]
  },
  {
   "cell_type": "code",
   "execution_count": 23,
   "id": "b23d78db",
   "metadata": {},
   "outputs": [
    {
     "name": "stdout",
     "output_type": "stream",
     "text": [
      "3\n"
     ]
    }
   ],
   "source": [
    "if __name__ == '__main__':\n",
    "    tree= \"nlnnlll\"\n",
    "    n = len(tree)\n",
    "    print(findDepth(tree, n))"
   ]
  },
  {
   "cell_type": "markdown",
   "id": "79c1e836",
   "metadata": {},
   "source": [
    "Q 2 -"
   ]
  },
  {
   "cell_type": "code",
   "execution_count": 41,
   "id": "904c6172",
   "metadata": {},
   "outputs": [
    {
     "name": "stdout",
     "output_type": "stream",
     "text": [
      "Left View: \n",
      "1 2 4 5 6 "
     ]
    }
   ],
   "source": [
    "class Node:\n",
    "    def __init__(self, data):\n",
    "        self.data = data\n",
    "        self.left = None\n",
    "        self.right = None\n",
    "\n",
    "def printLeftView(root):\n",
    "    if root is None:\n",
    "        return\n",
    "\n",
    "    max_level = [0]  \n",
    "\n",
    "    def printLeftViewUtil(node, level):\n",
    "        nonlocal max_level\n",
    "\n",
    "        if node is None:\n",
    "            return\n",
    "\n",
    "        \n",
    "        if level > max_level[0]:\n",
    "            print(node.data, end=' ')\n",
    "            max_level[0] = level\n",
    "\n",
    "        \n",
    "        printLeftViewUtil(node.left, level + 1)\n",
    "\n",
    "        \n",
    "        printLeftViewUtil(node.right, level + 1)\n",
    "\n",
    "    printLeftViewUtil(root, 1)\n",
    "\n",
    "\n",
    "if __name__ == '__main__':\n",
    "    root = Node(1)\n",
    "    root.left = Node(2)\n",
    "    root.right = Node(3)\n",
    "    root.left.right = Node(4)\n",
    "    root.left.right.right = Node(5)\n",
    "    root.left.right.right.right = Node(6)\n",
    "\n",
    "    print(\"Left View: \")\n",
    "    printLeftView(root)\n"
   ]
  },
  {
   "cell_type": "code",
   "execution_count": 42,
   "id": "dc4cc5f9",
   "metadata": {},
   "outputs": [
    {
     "name": "stdout",
     "output_type": "stream",
     "text": [
      "Left View: \n",
      "4 5 3 6 "
     ]
    }
   ],
   "source": [
    "class Node:\n",
    "    def __init__(self, data):\n",
    "        self.data = data\n",
    "        self.left = None\n",
    "        self.right = None\n",
    "\n",
    "def printLeftView(root):\n",
    "    if root is None:\n",
    "        return\n",
    "\n",
    "    queue = [root]  \n",
    "\n",
    "    while queue:\n",
    "        level_size = len(queue)\n",
    "\n",
    "        \n",
    "        for i in range(level_size):\n",
    "            node = queue.pop(0)\n",
    "\n",
    "            \n",
    "            if i == 0:\n",
    "                print(node.data, end=' ')\n",
    "\n",
    "            \n",
    "            if node.left:\n",
    "                queue.append(node.left)\n",
    "            if node.right:\n",
    "                queue.append(node.right)\n",
    "\n",
    "\n",
    "if __name__ == '__main__':\n",
    "    root = Node(4)\n",
    "    root.left = Node(5)\n",
    "    root.right = Node(2)\n",
    "    root.right.left = Node(3)\n",
    "    root.right.right = Node(1)\n",
    "    root.right.left.left = Node(6)\n",
    "    root.right.left.right = Node(7)\n",
    "\n",
    "    print(\"Left View: \")\n",
    "    printLeftView(root)\n"
   ]
  },
  {
   "cell_type": "markdown",
   "id": "314b0bb0",
   "metadata": {},
   "source": [
    "Q 3 -"
   ]
  },
  {
   "cell_type": "code",
   "execution_count": 43,
   "id": "86385f31",
   "metadata": {},
   "outputs": [
    {
     "name": "stdout",
     "output_type": "stream",
     "text": [
      "Right View: \n",
      "1 3 7 8 "
     ]
    }
   ],
   "source": [
    "class Node:\n",
    "    def __init__(self, data):\n",
    "        self.data = data\n",
    "        self.left = None\n",
    "        self.right = None\n",
    "\n",
    "def printRightView(root):\n",
    "    if root is None:\n",
    "        return\n",
    "\n",
    "    queue = [root]  \n",
    "\n",
    "    while queue:\n",
    "        level_size = len(queue)\n",
    "\n",
    "        for i in range(level_size):\n",
    "            node = queue.pop(0)\n",
    "\n",
    "          \n",
    "            if i == level_size - 1:\n",
    "                print(node.data, end=' ')\n",
    "\n",
    "          \n",
    "            if node.left:\n",
    "                queue.append(node.left)\n",
    "            if node.right:\n",
    "                queue.append(node.right)\n",
    "\n",
    "\n",
    "if __name__ == '__main__':\n",
    "    root = Node(1)\n",
    "    root.left = Node(2)\n",
    "    root.right = Node(3)\n",
    "    root.left.left = Node(4)\n",
    "    root.left.right = Node(5)\n",
    "    root.right.left = Node(6)\n",
    "    root.right.right = Node(7)\n",
    "    root.right.right.right = Node(8)\n",
    "\n",
    "    print(\"Right View: \")\n",
    "    printRightView(root)\n"
   ]
  },
  {
   "cell_type": "code",
   "execution_count": 44,
   "id": "e9a28b37",
   "metadata": {},
   "outputs": [
    {
     "name": "stdout",
     "output_type": "stream",
     "text": [
      "Right View: \n",
      "1 8 7 "
     ]
    }
   ],
   "source": [
    "if __name__ == '__main__':\n",
    "    root = Node(1)\n",
    "    root.left = Node(8)\n",
    "    root.left.left = Node(7)\n",
    "  \n",
    "    \n",
    "    print(\"Right View: \")\n",
    "    printRightView(root)\n"
   ]
  },
  {
   "cell_type": "markdown",
   "id": "152b2de3",
   "metadata": {},
   "source": [
    "Q 4 -"
   ]
  },
  {
   "cell_type": "code",
   "execution_count": 45,
   "id": "029c00b2",
   "metadata": {},
   "outputs": [
    {
     "name": "stdout",
     "output_type": "stream",
     "text": [
      "Bottom View: \n",
      "5 10 3 14 25 "
     ]
    }
   ],
   "source": [
    "from collections import deque\n",
    "\n",
    "class Node:\n",
    "    def __init__(self, data):\n",
    "        self.data = data\n",
    "        self.left = None\n",
    "        self.right = None\n",
    "        self.horizontal_distance = 0\n",
    "\n",
    "def printBottomView(root):\n",
    "    if root is None:\n",
    "        return\n",
    "\n",
    "    # Dictionary to store the bottom-most nodes at each horizontal distance\n",
    "    bottom_view = {}\n",
    "\n",
    "    # Queue for level order traversal\n",
    "    queue = deque([(root, 0)])\n",
    "\n",
    "    while queue:\n",
    "        node, horizontal_distance = queue.popleft()\n",
    "\n",
    "        # Update the horizontal distance of the node\n",
    "        node.horizontal_distance = horizontal_distance\n",
    "\n",
    "        # Update the bottom-most node at the current horizontal distance\n",
    "        bottom_view[horizontal_distance] = node.data\n",
    "\n",
    "        # Enqueue the left and right child nodes with their updated horizontal distance\n",
    "        if node.left:\n",
    "            queue.append((node.left, horizontal_distance - 1))\n",
    "        if node.right:\n",
    "            queue.append((node.right, horizontal_distance + 1))\n",
    "\n",
    "    # Print the bottom view nodes in the order of their horizontal distance\n",
    "    for key in sorted(bottom_view):\n",
    "        print(bottom_view[key], end=' ')\n",
    "\n",
    "# Driver code\n",
    "if __name__ == '__main__':\n",
    "    root = Node(20)\n",
    "    root.left = Node(8)\n",
    "    root.right = Node(22)\n",
    "    root.left.left = Node(5)\n",
    "    root.left.right = Node(3)\n",
    "    root.right.right = Node(25)\n",
    "    root.left.right.left = Node(10)\n",
    "    root.left.right.right = Node(14)\n",
    "\n",
    "    print(\"Bottom View: \")\n",
    "    printBottomView(root)\n"
   ]
  },
  {
   "cell_type": "code",
   "execution_count": null,
   "id": "4a3fc767",
   "metadata": {},
   "outputs": [],
   "source": []
  }
 ],
 "metadata": {
  "kernelspec": {
   "display_name": "Python 3 (ipykernel)",
   "language": "python",
   "name": "python3"
  },
  "language_info": {
   "codemirror_mode": {
    "name": "ipython",
    "version": 3
   },
   "file_extension": ".py",
   "mimetype": "text/x-python",
   "name": "python",
   "nbconvert_exporter": "python",
   "pygments_lexer": "ipython3",
   "version": "3.10.9"
  }
 },
 "nbformat": 4,
 "nbformat_minor": 5
}
