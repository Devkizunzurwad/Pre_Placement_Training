{
 "cells": [
  {
   "cell_type": "code",
   "execution_count": 42,
   "id": "3e9d1783",
   "metadata": {},
   "outputs": [
    {
     "name": "stdout",
     "output_type": "stream",
     "text": [
      "3\n",
      "58\n"
     ]
    }
   ],
   "source": [
    "#Question1\n",
    "\n",
    "def romanToInt(s):\n",
    "    roman_values = {\n",
    "        'I': 1,\n",
    "        'V': 5,\n",
    "        'X': 10,\n",
    "        'L': 50,\n",
    "        'C': 100,\n",
    "        'D': 500,\n",
    "        'M': 1000\n",
    "    }\n",
    "    \n",
    "    total = 0\n",
    "    prev_value = 0\n",
    "    \n",
    "    for i in range(len(s)-1, -1, -1):\n",
    "        current_value = roman_values[s[i]]\n",
    "        \n",
    "        if current_value < prev_value:\n",
    "            total -= current_value\n",
    "        else:\n",
    "            total += current_value\n",
    "        \n",
    "        prev_value = current_value\n",
    "    \n",
    "    return total\n",
    "print(romanToInt(\"III\")) \n",
    "print(romanToInt(\"LVIII\")) "
   ]
  },
  {
   "cell_type": "code",
   "execution_count": null,
   "id": "8f0b6627",
   "metadata": {},
   "outputs": [],
   "source": [
    "Question 2"
   ]
  },
  {
   "cell_type": "code",
   "execution_count": 43,
   "id": "68eb1928",
   "metadata": {},
   "outputs": [
    {
     "name": "stdout",
     "output_type": "stream",
     "text": [
      "3\n",
      "1\n",
      "3\n"
     ]
    }
   ],
   "source": [
    "def lengthOfLongestSubstring(s):\n",
    "    n = len(s)\n",
    "    char_set = set()\n",
    "    longest_len = 0\n",
    "    left = 0\n",
    "    right = 0\n",
    "    \n",
    "    while left < n and right < n:\n",
    "        if s[right] not in char_set:\n",
    "            char_set.add(s[right])\n",
    "            right += 1\n",
    "            longest_len = max(longest_len, right - left)\n",
    "        else:\n",
    "            char_set.remove(s[left])\n",
    "            left += 1\n",
    "    \n",
    "    return longest_len\n",
    "print(lengthOfLongestSubstring(\"abcabcbb\"))\n",
    "print(lengthOfLongestSubstring(\"bbbbb\"))\n",
    "print(lengthOfLongestSubstring(\"pwwkew\"))\n"
   ]
  },
  {
   "cell_type": "code",
   "execution_count": null,
   "id": "062a2ea6",
   "metadata": {},
   "outputs": [],
   "source": [
    "Question 3"
   ]
  },
  {
   "cell_type": "code",
   "execution_count": 14,
   "id": "fe4901ca",
   "metadata": {},
   "outputs": [
    {
     "name": "stdout",
     "output_type": "stream",
     "text": [
      "3\n"
     ]
    },
    {
     "data": {
      "text/plain": [
       "2"
      ]
     },
     "execution_count": 14,
     "metadata": {},
     "output_type": "execute_result"
    }
   ],
   "source": [
    "def majorityElement(nums):\n",
    "    majority = nums[0]\n",
    "    count = 1\n",
    "    \n",
    "    for i in range(1, len(nums)):\n",
    "        if nums[i] == majority:\n",
    "            count += 1\n",
    "        else:\n",
    "            count -= 1\n",
    "            if count == 0:\n",
    "                majority = nums[i]\n",
    "                count = 1\n",
    "    \n",
    "    return majority\n",
    "\n",
    "nums = [3, 2, 3]\n",
    "result = majorityElement(nums)\n",
    "print(result) \n",
    "\n",
    "nums = [2,2,1,1,1,2,2]\n",
    "result = majorityElement(nums)\n",
    "result"
   ]
  },
  {
   "cell_type": "code",
   "execution_count": null,
   "id": "693300f5",
   "metadata": {},
   "outputs": [],
   "source": [
    "Question 4"
   ]
  },
  {
   "cell_type": "code",
   "execution_count": 44,
   "id": "b75d54b8",
   "metadata": {},
   "outputs": [
    {
     "name": "stdout",
     "output_type": "stream",
     "text": [
      "[['eat', 'tea', 'ate'], ['tan', 'nat'], ['bat']]\n",
      "[['']]\n",
      "[['a']]\n"
     ]
    }
   ],
   "source": [
    "def groupAnagrams(strs):\n",
    "    groups = {}\n",
    "    \n",
    "    for word in strs:\n",
    "        sorted_word = ''.join(sorted(word))\n",
    "        if sorted_word not in groups:\n",
    "            groups[sorted_word] = []\n",
    "        groups[sorted_word].append(word)\n",
    "    \n",
    "    return list(groups.values())\n",
    "strs = [\"eat\", \"tea\", \"tan\", \"ate\", \"nat\", \"bat\"]\n",
    "result = groupAnagrams(strs)\n",
    "print(result) \n",
    "\n",
    "strs = [\"\"]\n",
    "result = groupAnagrams(strs)\n",
    "print(result)\n",
    "\n",
    "strs = [\"a\"]\n",
    "result = groupAnagrams(strs)\n",
    "print(result)"
   ]
  },
  {
   "cell_type": "code",
   "execution_count": null,
   "id": "33864882",
   "metadata": {},
   "outputs": [],
   "source": [
    "Question 5"
   ]
  },
  {
   "cell_type": "code",
   "execution_count": 23,
   "id": "24dd9be8",
   "metadata": {},
   "outputs": [
    {
     "name": "stdout",
     "output_type": "stream",
     "text": [
      "12\n",
      "1\n"
     ]
    }
   ],
   "source": [
    "def nthUglyNumber(n):\n",
    "    ugly = [1]\n",
    "    p2 = p3 = p5 = 0\n",
    "\n",
    "    for _ in range(n - 1):\n",
    "        next_ugly2 = ugly[p2] * 2\n",
    "        next_ugly3 = ugly[p3] * 3\n",
    "        next_ugly5 = ugly[p5] * 5\n",
    "\n",
    "        next_ugly = min(next_ugly2, next_ugly3, next_ugly5)\n",
    "        ugly.append(next_ugly)\n",
    "\n",
    "        if next_ugly == next_ugly2:\n",
    "            p2 += 1\n",
    "        if next_ugly == next_ugly3:\n",
    "            p3 += 1\n",
    "        if next_ugly == next_ugly5:\n",
    "            p5 += 1\n",
    "\n",
    "    return ugly[-1]\n",
    "n = 10\n",
    "result = nthUglyNumber(n)\n",
    "print(result) \n",
    "\n",
    "n = 1\n",
    "result = nthUglyNumber(n)\n",
    "print(result)"
   ]
  },
  {
   "cell_type": "code",
   "execution_count": null,
   "id": "ef93bb5e",
   "metadata": {},
   "outputs": [],
   "source": [
    "Question 6"
   ]
  },
  {
   "cell_type": "code",
   "execution_count": 45,
   "id": "d884c4de",
   "metadata": {},
   "outputs": [
    {
     "name": "stdout",
     "output_type": "stream",
     "text": [
      "['i', 'love']\n",
      "['the', 'is']\n"
     ]
    }
   ],
   "source": [
    "def topKFrequent(words, k):\n",
    "    freq_counter = {}\n",
    "    for word in words:\n",
    "        freq_counter[word] = freq_counter.get(word, 0) + 1\n",
    "    sorted_words = sorted(freq_counter.keys(), key=lambda x: (-freq_counter[x], x))\n",
    "    return sorted_words[:k]\n",
    "words = [\"i\", \"love\", \"leetcode\", \"i\", \"love\", \"coding\"]\n",
    "k = 2\n",
    "result = topKFrequent(words, k)\n",
    "print(result)\n",
    "\n",
    "words = [\"the\",\"day\",\"is\",\"sunny\",\"the\",\"the\",\"the\",\"sunny\",\"is\",\"is\"]\n",
    "K = 4\n",
    "result = topKFrequent(words , k)\n",
    "print(result)"
   ]
  },
  {
   "cell_type": "code",
   "execution_count": null,
   "id": "1fa07a61",
   "metadata": {},
   "outputs": [],
   "source": [
    "question 7"
   ]
  },
  {
   "cell_type": "code",
   "execution_count": 37,
   "id": "73231b0d",
   "metadata": {},
   "outputs": [],
   "source": [
    "from collections import deque\n",
    "\n",
    "def maxSlidingWindow(nums, k):\n",
    "    result = []\n",
    "    window = deque()\n",
    "    \n",
    "    for i in range(len(nums)):\n",
    "        if window and window[0] == i - k:\n",
    "            window.popleft()\n",
    "    \n",
    "        while window and nums[window[-1]] <= nums[i]:\n",
    "            window.pop()\n",
    "        \n",
    "        window.append(i)\n",
    "        if i >= k - 1:\n",
    "        \n",
    "            result.append(nums[window[0]])\n",
    "    \n",
    "    return result\n"
   ]
  },
  {
   "cell_type": "code",
   "execution_count": 34,
   "id": "29ab251f",
   "metadata": {},
   "outputs": [
    {
     "name": "stdout",
     "output_type": "stream",
     "text": [
      "[3, 3, 5, 5, 6, 7]\n"
     ]
    }
   ],
   "source": [
    "nums = [1,3,-1,-3,5,3,6,7]\n",
    "k = 3\n",
    "result = maxSlidingWindow(nums, k)\n",
    "print(result)\n"
   ]
  },
  {
   "cell_type": "code",
   "execution_count": 38,
   "id": "3e7afab7",
   "metadata": {},
   "outputs": [
    {
     "name": "stdout",
     "output_type": "stream",
     "text": [
      "[1]\n"
     ]
    }
   ],
   "source": [
    "nums = [1]\n",
    "k = 1\n",
    "result = maxSlidingWindow(nums, k)\n",
    "print(result)\n"
   ]
  },
  {
   "cell_type": "code",
   "execution_count": null,
   "id": "0d72717d",
   "metadata": {},
   "outputs": [],
   "source": [
    "Question 8"
   ]
  },
  {
   "cell_type": "code",
   "execution_count": 40,
   "id": "ada935a9",
   "metadata": {},
   "outputs": [
    {
     "name": "stdout",
     "output_type": "stream",
     "text": [
      "[1, 2, 3, 4]\n"
     ]
    }
   ],
   "source": [
    "def findClosestElements(arr, k, x):\n",
    "    left = 0\n",
    "    right = len(arr) - 1\n",
    "    \n",
    "    while right - left + 1 > k:\n",
    "        if abs(arr[left] - x) <= abs(arr[right] - x):\n",
    "            right -= 1\n",
    "        else:\n",
    "            left += 1\n",
    "    \n",
    "    return arr[left:right+1]\n",
    "arr = [1, 2, 3, 4, 5]\n",
    "k = 4\n",
    "x = 3\n",
    "result = findClosestElements(arr, k, x)\n",
    "print(result)\n"
   ]
  },
  {
   "cell_type": "code",
   "execution_count": 41,
   "id": "5c32fb88",
   "metadata": {},
   "outputs": [
    {
     "name": "stdout",
     "output_type": "stream",
     "text": [
      "[1, 2, 3, 4]\n"
     ]
    }
   ],
   "source": [
    "arr = [1,2,3,4,5]\n",
    "k = 4\n",
    "x = -1\n",
    "result = findClosestElements(arr, k, x)\n",
    "print(result)"
   ]
  },
  {
   "cell_type": "code",
   "execution_count": null,
   "id": "9af74612",
   "metadata": {},
   "outputs": [],
   "source": []
  }
 ],
 "metadata": {
  "kernelspec": {
   "display_name": "Python 3 (ipykernel)",
   "language": "python",
   "name": "python3"
  },
  "language_info": {
   "codemirror_mode": {
    "name": "ipython",
    "version": 3
   },
   "file_extension": ".py",
   "mimetype": "text/x-python",
   "name": "python",
   "nbconvert_exporter": "python",
   "pygments_lexer": "ipython3",
   "version": "3.10.9"
  }
 },
 "nbformat": 4,
 "nbformat_minor": 5
}
